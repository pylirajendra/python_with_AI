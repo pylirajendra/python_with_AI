{
 "cells": [
  {
   "cell_type": "code",
   "execution_count": 1,
   "id": "8297ba98",
   "metadata": {},
   "outputs": [
    {
     "name": "stdout",
     "output_type": "stream",
     "text": [
      "12\n",
      "8\n",
      "20\n",
      "5.0\n",
      "0\n",
      "100\n",
      "5\n"
     ]
    }
   ],
   "source": [
    "x = 10\n",
    "y = 2\n",
    "print(x+y)\n",
    "print(x-y)\n",
    "print(x*y)\n",
    "print(x/y)\n",
    "print(x%y)\n",
    "print(x**y)\n",
    "print(x//y)\n"
   ]
  },
  {
   "cell_type": "markdown",
   "id": "84bb4b75",
   "metadata": {},
   "source": [
    "# assignment operator:\n",
    "- used to assign value to varibles\n",
    "- operators:"
   ]
  },
  {
   "cell_type": "code",
   "execution_count": 2,
   "id": "d619156b",
   "metadata": {},
   "outputs": [
    {
     "name": "stdout",
     "output_type": "stream",
     "text": [
      "11\n",
      "7\n",
      "21\n",
      "7.0\n",
      "343.0\n",
      "3.0\n",
      "1.0\n"
     ]
    }
   ],
   "source": [
    "x = 5\n",
    "x += 6\n",
    "print(x)\n",
    "x -= 4\n",
    "print(x)\n",
    "x *= 3\n",
    "print(x)\n",
    "x /= 3\n",
    "print(x)\n",
    "x **= 3\n",
    "print(x)\n",
    "x %= 4\n",
    "print(x)\n",
    "x //= 2\n",
    "print(x)\n",
    "\n"
   ]
  },
  {
   "cell_type": "markdown",
   "id": "08fa4eb6",
   "metadata": {},
   "source": [
    "# comparision operators:\n",
    "- used for to  comparision of values"
   ]
  },
  {
   "cell_type": "code",
   "execution_count": 4,
   "id": "9cd21c2b",
   "metadata": {},
   "outputs": [
    {
     "name": "stdout",
     "output_type": "stream",
     "text": [
      "False\n",
      "True\n",
      "True\n",
      "False\n",
      "True\n",
      "False\n"
     ]
    }
   ],
   "source": [
    "x = 6\n",
    "y = 9\n",
    "print(x == y)\n",
    "print(x != y)\n",
    "print(x < y)\n",
    "print(x > y)\n",
    "print(x <= y)\n",
    "print(x >= y)\n",
    "\n"
   ]
  },
  {
   "cell_type": "markdown",
   "id": "31af6a51",
   "metadata": {},
   "source": [
    "# logical operator:\n"
   ]
  },
  {
   "cell_type": "code",
   "execution_count": 5,
   "id": "aa640472",
   "metadata": {},
   "outputs": [
    {
     "name": "stdout",
     "output_type": "stream",
     "text": [
      "False\n",
      "True\n",
      "True\n"
     ]
    }
   ],
   "source": [
    "x = 3\n",
    "print(x > 5 and x <9)\n",
    "print(x > 5 or x <9)\n",
    "print(not(x > 5 and x <9))"
   ]
  },
  {
   "cell_type": "markdown",
   "id": "00dc6d9c",
   "metadata": {},
   "source": [
    "# identity operator:"
   ]
  },
  {
   "cell_type": "code",
   "execution_count": 6,
   "id": "56d7a232",
   "metadata": {},
   "outputs": [
    {
     "name": "stdout",
     "output_type": "stream",
     "text": [
      "True\n",
      "False\n",
      "True\n"
     ]
    }
   ],
   "source": [
    "a = 3 \n",
    "b = 3\n",
    "c = 8\n",
    "print(a is b)\n",
    "print(a is c)\n",
    "print(a is b is not c)"
   ]
  },
  {
   "cell_type": "markdown",
   "id": "7e8966a0",
   "metadata": {},
   "source": [
    "# membershio operators:"
   ]
  },
  {
   "cell_type": "code",
   "execution_count": 7,
   "id": "d1afc887",
   "metadata": {},
   "outputs": [
    {
     "name": "stdout",
     "output_type": "stream",
     "text": [
      "True\n",
      "True\n",
      "False\n",
      "True\n"
     ]
    }
   ],
   "source": [
    "s = \"python\"\n",
    "print(\"y\" in s)\n",
    "print(\"th\" in s)\n",
    "print(\"thn\" in s)\n",
    "print(\"pn\" not in s)"
   ]
  },
  {
   "cell_type": "markdown",
   "id": "a44fa6bd",
   "metadata": {},
   "source": [
    "# control flow statements:"
   ]
  },
  {
   "cell_type": "code",
   "execution_count": 11,
   "id": "56ddf170",
   "metadata": {},
   "outputs": [
    {
     "name": "stdout",
     "output_type": "stream",
     "text": [
      "Enter a Number:4\n",
      "Even Number\n"
     ]
    }
   ],
   "source": [
    "# check given is even or odd\n",
    "n = int(input(\"Enter a Number:\"))\n",
    "if n%2 ==0:\n",
    "        print(\"Even Number\")\n",
    "else: \n",
    "    print(\"Odd Number\")"
   ]
  },
  {
   "cell_type": "code",
   "execution_count": 12,
   "id": "d78d469e",
   "metadata": {},
   "outputs": [
    {
     "name": "stdout",
     "output_type": "stream",
     "text": [
      "enter a number:10\n",
      "no\n"
     ]
    }
   ],
   "source": [
    "# check given is multiples of both 3 and 5\n",
    "n = int(input(\"enter a number:\"))\n",
    "if n%3==0 and n%5==0:\n",
    "    print(\"yes\")\n",
    "else:\n",
    "    print(\"no\")"
   ]
  },
  {
   "cell_type": "code",
   "execution_count": 18,
   "id": "cbd6ecde",
   "metadata": {},
   "outputs": [
    {
     "name": "stdout",
     "output_type": "stream",
     "text": [
      "enter a number:5\n",
      "positive number\n"
     ]
    }
   ],
   "source": [
    "# check given is positive number,negative number or zero\n",
    "n = int(input(\"enter a number:\"))\n",
    "if n>0: \n",
    "    print(\"positive number\")\n",
    "elif x <  0:\n",
    "    print(\"negative number\")\n",
    "else:\n",
    "        print(\"zero\")"
   ]
  },
  {
   "cell_type": "code",
   "execution_count": 22,
   "id": "1de759f1",
   "metadata": {},
   "outputs": [
    {
     "name": "stdout",
     "output_type": "stream",
     "text": [
      "enter a number:2\n",
      "enter a number:4\n",
      "enter a number:8\n",
      "y\n"
     ]
    }
   ],
   "source": [
    "# find large number from 3 inputs\n",
    "x = int(input(\"enter a number:\"))\n",
    "y = int(input(\"enter a number:\"))\n",
    "z = int(input(\"enter a number:\"))\n",
    "if x>z and x>y:\n",
    "    print(\"x\")\n",
    "elif y>z:\n",
    "    print(\"z\")\n",
    "else:\n",
    "    print(\"y\")\n"
   ]
  },
  {
   "cell_type": "code",
   "execution_count": 1,
   "id": "8009360a",
   "metadata": {},
   "outputs": [
    {
     "name": "stdout",
     "output_type": "stream",
     "text": [
      "enter a number:79\n",
      "B\n"
     ]
    }
   ],
   "source": [
    "# find grading\n",
    "x = int(input(\"enter a number:\"))\n",
    "if x > 80:\n",
    "    print(\"A\")\n",
    "elif x<=80 and x>=60:\n",
    "    print(\"B\")\n",
    "elif x<60 and x>=50:\n",
    "\n",
    "    print(\"C\")\n",
    "elif x<50 and x>=45:\n",
    "    print(\"D\")\n",
    "elif x<45 and x>=25:\n",
    "    print(\"E\")\n",
    "else :\n",
    "    print(\"F\")\n",
    "\n",
    "    \n",
    "    "
   ]
  },
  {
   "cell_type": "code",
   "execution_count": null,
   "id": "2b18af00",
   "metadata": {},
   "outputs": [],
   "source": []
  },
  {
   "cell_type": "code",
   "execution_count": null,
   "id": "5e29b742",
   "metadata": {},
   "outputs": [],
   "source": []
  },
  {
   "cell_type": "code",
   "execution_count": null,
   "id": "5111c294",
   "metadata": {},
   "outputs": [],
   "source": []
  }
 ],
 "metadata": {
  "kernelspec": {
   "display_name": "Python 3",
   "language": "python",
   "name": "python3"
  },
  "language_info": {
   "codemirror_mode": {
    "name": "ipython",
    "version": 3
   },
   "file_extension": ".py",
   "mimetype": "text/x-python",
   "name": "python",
   "nbconvert_exporter": "python",
   "pygments_lexer": "ipython3",
   "version": "3.8.8"
  }
 },
 "nbformat": 4,
 "nbformat_minor": 5
}
