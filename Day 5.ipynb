{
 "cells": [
  {
   "cell_type": "markdown",
   "id": "b9b286ab",
   "metadata": {},
   "source": [
    "# markdown\n",
    "## markdown\n",
    "### markdown\n",
    "#### markdown\n",
    "\n",
    "- python\n",
    "   - python 1\n",
    "   - python 2\n",
    "      - python 1\n",
    "      - python 2\n",
    "      \n",
    "- *python*\n",
    "- **python**\n",
    "-***python***"
   ]
  },
  {
   "cell_type": "markdown",
   "id": "7bef310e",
   "metadata": {},
   "source": [
    "print function():\n",
    "    . it allows to print specific text or messages\n",
    "   \n",
    "  "
   ]
  },
  {
   "cell_type": "markdown",
   "id": "7d7841bf",
   "metadata": {},
   "source": []
  },
  {
   "cell_type": "code",
   "execution_count": 1,
   "id": "6f2bffe7",
   "metadata": {},
   "outputs": [
    {
     "name": "stdout",
     "output_type": "stream",
     "text": [
      "Hello world\n"
     ]
    }
   ],
   "source": [
    "print(\"Hello world\")\n"
   ]
  },
  {
   "cell_type": "code",
   "execution_count": 3,
   "id": "ad824f90",
   "metadata": {},
   "outputs": [
    {
     "name": "stdout",
     "output_type": "stream",
     "text": [
      "hello ,world\n"
     ]
    }
   ],
   "source": [
    "print(\"hello ,world\")"
   ]
  },
  {
   "cell_type": "markdown",
   "id": "2a0e70b1",
   "metadata": {},
   "source": [
    "print(\"one\",\"two\",\"three\")"
   ]
  },
  {
   "cell_type": "markdown",
   "id": "9d3c3268",
   "metadata": {},
   "source": [
    "# variable\n",
    "      assaigning a value"
   ]
  },
  {
   "cell_type": "code",
   "execution_count": 6,
   "id": "c6693f90",
   "metadata": {},
   "outputs": [
    {
     "name": "stdout",
     "output_type": "stream",
     "text": [
      "10\n"
     ]
    }
   ],
   "source": [
    "a = 10 # single variable assained to single value\n",
    "print(a)"
   ]
  },
  {
   "cell_type": "code",
   "execution_count": 7,
   "id": "6b3b5ab0",
   "metadata": {},
   "outputs": [
    {
     "name": "stdout",
     "output_type": "stream",
     "text": [
      "10 10 10\n"
     ]
    }
   ],
   "source": [
    "a = b = c = 10 # multiple variables assained to single value\n",
    "print(a,b,c)"
   ]
  },
  {
   "cell_type": "code",
   "execution_count": 8,
   "id": "08333401",
   "metadata": {},
   "outputs": [
    {
     "name": "stdout",
     "output_type": "stream",
     "text": [
      "5 4 6\n"
     ]
    }
   ],
   "source": [
    "a, b, c = 5, 4, 6\n",
    "print(a,b,c)"
   ]
  },
  {
   "cell_type": "markdown",
   "id": "c630d991",
   "metadata": {},
   "source": [
    "# data types\n",
    "   - int\n",
    "   - float\n",
    "   - string"
   ]
  },
  {
   "cell_type": "code",
   "execution_count": 9,
   "id": "a73cf933",
   "metadata": {},
   "outputs": [
    {
     "name": "stdout",
     "output_type": "stream",
     "text": [
      "5\n",
      "<class 'int'>\n"
     ]
    }
   ],
   "source": [
    "# int\n",
    "a = 5\n",
    "print(a)\n",
    "print(type(a))"
   ]
  },
  {
   "cell_type": "code",
   "execution_count": 10,
   "id": "27e8c947",
   "metadata": {},
   "outputs": [
    {
     "name": "stdout",
     "output_type": "stream",
     "text": [
      "1.3 <class 'float'>\n"
     ]
    }
   ],
   "source": [
    "# float\n",
    "f = 1.3\n",
    "print(f,type(f))"
   ]
  },
  {
   "cell_type": "code",
   "execution_count": null,
   "id": "23457999",
   "metadata": {},
   "outputs": [],
   "source": [
    "# string\n",
    "s = \"python\"\n",
    "print(s,type(s))"
   ]
  },
  {
   "cell_type": "markdown",
   "id": "393e434f",
   "metadata": {},
   "source": [
    "# data types\n",
    "- integer-->  **int**\n",
    "- float-->  **float**\n",
    "- string-->  **str**"
   ]
  },
  {
   "cell_type": "code",
   "execution_count": 12,
   "id": "14046a33",
   "metadata": {},
   "outputs": [
    {
     "name": "stdout",
     "output_type": "stream",
     "text": [
      "10 <class 'int'>\n",
      "10.0 <class 'float'>\n",
      "10 <class 'str'>\n"
     ]
    }
   ],
   "source": [
    "n = 10\n",
    "print(n,type(n))\n",
    "f = float(n)\n",
    "print(f,type(f))\n",
    "s = str(n)\n",
    "print(s,type(s))"
   ]
  },
  {
   "cell_type": "code",
   "execution_count": 14,
   "id": "2913d6e2",
   "metadata": {},
   "outputs": [
    {
     "name": "stdout",
     "output_type": "stream",
     "text": [
      "1.5 <class 'float'>\n",
      "1 <class 'int'>\n",
      "1.5 <class 'str'>\n"
     ]
    }
   ],
   "source": [
    "f = 1.5\n",
    "print(f,type(f))\n",
    "n = int(f)\n",
    "print(n,type(n))\n",
    "s = str(f)\n",
    "print(s,type(s))"
   ]
  },
  {
   "cell_type": "code",
   "execution_count": 15,
   "id": "70a89adc",
   "metadata": {},
   "outputs": [
    {
     "name": "stdout",
     "output_type": "stream",
     "text": [
      "12346 <class 'str'>\n",
      "12346 <class 'int'>\n",
      "12346.0 <class 'float'>\n"
     ]
    }
   ],
   "source": [
    "s = \"12346\"\n",
    "print(s,type(s))\n",
    "n = int(s)\n",
    "print(n,type(n))\n",
    "f = float(s)\n",
    "print(f,type(f))"
   ]
  },
  {
   "cell_type": "markdown",
   "id": "a61e6bdb",
   "metadata": {},
   "source": [
    "#  input function\n",
    "\n",
    "- read input from user"
   ]
  },
  {
   "cell_type": "code",
   "execution_count": 16,
   "id": "e6e059d3",
   "metadata": {},
   "outputs": [
    {
     "name": "stdout",
     "output_type": "stream",
     "text": [
      "enter your name :Rajendra\n",
      "my name is : Rajendra\n",
      "<class 'str'>\n"
     ]
    }
   ],
   "source": [
    " # input as text\n",
    " a = input(\"enter your name :\")\n",
    " print(\"my name is :\",a)\n",
    " print(type(a))   "
   ]
  },
  {
   "cell_type": "code",
   "execution_count": 17,
   "id": "06733064",
   "metadata": {},
   "outputs": [
    {
     "name": "stdout",
     "output_type": "stream",
     "text": [
      "enter a number :9\n",
      "9\n",
      "<class 'int'>\n"
     ]
    }
   ],
   "source": [
    "# input as number\n",
    "q = int(input(\"enter a number :\"))\n",
    "print(q)\n",
    "print(type(q))\n"
   ]
  },
  {
   "cell_type": "markdown",
   "id": "0a9c2ca0",
   "metadata": {},
   "source": [
    "# exercises\n"
   ]
  },
  {
   "cell_type": "code",
   "execution_count": 25,
   "id": "a48b06ad",
   "metadata": {},
   "outputs": [
    {
     "name": "stdout",
     "output_type": "stream",
     "text": [
      "Name ** Is ** James\n"
     ]
    }
   ],
   "source": [
    "# Display three string “Name”, “Is”, “James” as “Name**Is**James”\n",
    "x = \"Name\"\n",
    "y = \"Is\"\n",
    "z = \"James\"\n",
    "print(x,\"**\",y,\"**\",z)"
   ]
  },
  {
   "cell_type": "code",
   "execution_count": 21,
   "id": "3ed4b28f",
   "metadata": {},
   "outputs": [
    {
     "name": "stdout",
     "output_type": "stream",
     "text": [
      "enter radius: 21\n",
      "area of circle: 1384.74\n"
     ]
    }
   ],
   "source": [
    "# Write a Python program which accepts the radius of a circle from the user and compute the area .\n",
    "radius=int(input(\"enter radius: \"))\n",
    "area=3.14*radius**2\n",
    "print(\"area of circle:\",area)"
   ]
  },
  {
   "cell_type": "code",
   "execution_count": 22,
   "id": "6f7e9a8b",
   "metadata": {},
   "outputs": [
    {
     "name": "stdout",
     "output_type": "stream",
     "text": [
      "enter first value: 5\n",
      "enter second value: 74\n",
      ":addition is: 79 multiplication is: 370 division is: 0.06756756756756757\n"
     ]
    }
   ],
   "source": [
    "# Accept two numbers from the user and return their sum, multiplication and division.\n",
    "a=int(input(\"enter first value: \"))\n",
    "b=int(input(\"enter second value: \"))\n",
    "print(\":addition is:\",a+b,\"multiplication is:\",a*b,\"division is:\",a/b)"
   ]
  },
  {
   "cell_type": "code",
   "execution_count": 24,
   "id": "63539c17",
   "metadata": {},
   "outputs": [
    {
     "name": "stdout",
     "output_type": "stream",
     "text": [
      "enter year: 2021\n",
      "result= 2071\n"
     ]
    }
   ],
   "source": [
    "# Using input() function, print() function and another function you may need; ask for the current year, then print the answer +50.\n",
    "year=int(input(\"enter year: \"))\n",
    "print(\"result=\",year+50)"
   ]
  },
  {
   "cell_type": "code",
   "execution_count": null,
   "id": "837ea8f5",
   "metadata": {},
   "outputs": [],
   "source": []
  }
 ],
 "metadata": {
  "kernelspec": {
   "display_name": "Python 3",
   "language": "python",
   "name": "python3"
  },
  "language_info": {
   "codemirror_mode": {
    "name": "ipython",
    "version": 3
   },
   "file_extension": ".py",
   "mimetype": "text/x-python",
   "name": "python",
   "nbconvert_exporter": "python",
   "pygments_lexer": "ipython3",
   "version": "3.8.8"
  }
 },
 "nbformat": 4,
 "nbformat_minor": 5
}
